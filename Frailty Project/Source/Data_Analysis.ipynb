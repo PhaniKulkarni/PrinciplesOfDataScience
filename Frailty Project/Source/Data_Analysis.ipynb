{
 "cells": [
  {
   "cell_type": "code",
   "execution_count": 11,
   "id": "e4b45917",
   "metadata": {},
   "outputs": [
    {
     "name": "stdout",
     "output_type": "stream",
     "text": [
      "t-statistic: 1.7920318220177764\n",
      "p-value: 0.11089488733773724\n",
      "There is no significant difference in grip strength between groups.\n"
     ]
    }
   ],
   "source": [
    "import pandas as pd\n",
    "import scipy.stats as stats\n",
    "\n",
    "enc_data = pd.read_csv(\"C:\\\\Users\\\\kulka\\\\Documents\\\\PDS\\\\Frailty Project\\\\Raw_data\\\\encoded_data.csv\")\n",
    "\n",
    "\n",
    "Fr_1 = enc_data[enc_data['Frailty'] == 1]['Weight']\n",
    "Fr_0 = enc_data[enc_data['Frailty'] == 0]['Weight']\n",
    "\n",
    "t_stat, p_value = stats.ttest_ind(Fr_1, Fr_0)\n",
    "\n",
    "\n",
    "print(\"t-statistic:\", t_stat)\n",
    "print(\"p-value:\", p_value)\n",
    "\n",
    "alpha = 0.05  \n",
    "if p_value < alpha:\n",
    "    print(\"There is a significant difference in grip strength between groups.\")\n",
    "else:\n",
    "    print(\"There is no significant difference in grip strength between groups.\")\n"
   ]
  },
  {
   "cell_type": "code",
   "execution_count": 51,
   "id": "36d712c6",
   "metadata": {},
   "outputs": [],
   "source": [
    "import pandas as pd\n",
    "import numpy as np\n",
    "\n",
    "\n",
    "data2 = pd.read_csv('C:\\\\Users\\\\kulka\\\\Documents\\\\PDS\\\\Frailty Project\\\\Raw_data\\\\encoded_data.csv')\n",
    "\n",
    "\n",
    "num_samples = 200  \n",
    "\n",
    "\n",
    "np.random.seed(0)\n",
    "\n",
    "# Group Frailty = 1\n",
    "group_Frailty_1 = pd.DataFrame({\n",
    "    'Height': np.random.normal(68, 2, num_samples),\n",
    "    'Weight': np.random.normal(140, 10, num_samples),\n",
    "    'Age': np.random.randint(20, 60, num_samples),\n",
    "    'Gripstrength': np.random.normal(35, 5, num_samples),  \n",
    "    'Frailty': [1] * num_samples \n",
    "})\n",
    "\n",
    "# Group Frailty = 0\n",
    "group_Frailty_0 = pd.DataFrame({\n",
    "    'Height': np.random.normal(68, 2, num_samples),\n",
    "    'Weight': np.random.normal(140, 10, num_samples),\n",
    "    'Age': np.random.randint(20, 60, num_samples),\n",
    "    'Gripstrength': np.random.normal(25, 5, num_samples),  # Lower mean for group 0\n",
    "    'Frailty': [0] * num_samples\n",
    "})\n",
    "\n",
    "\n",
    "data5 = pd.concat([group_Frailty_1, group_Frailty_0], ignore_index=True)\n",
    "\n",
    "\n",
    "data5.to_csv('C:\\\\Users\\\\kulka\\\\Documents\\\\PDS\\\\Frailty Project\\\\Raw_data\\\\expanded_data.csv', index=False)\n",
    "\n"
   ]
  },
  {
   "cell_type": "code",
   "execution_count": 52,
   "id": "164224c3",
   "metadata": {},
   "outputs": [
    {
     "name": "stdout",
     "output_type": "stream",
     "text": [
      "t-statistic: 21.283355482806773\n",
      "p-value: 1.1490869500230724e-67\n",
      "There is a significant difference in grip strength between groups.\n"
     ]
    }
   ],
   "source": [
    "import pandas as pd\n",
    "import scipy.stats as stats\n",
    "\n",
    "enc2_data = pd.read_csv(\"C:\\\\Users\\\\kulka\\\\Documents\\\\PDS\\\\Frailty Project\\\\Raw_data\\\\expanded_data.csv\")\n",
    "\n",
    "\n",
    "Fr_1 = enc2_data[enc2_data['Frailty'] == 1]['Gripstrength']\n",
    "Fr_0 = enc2_data[enc2_data['Frailty'] == 0]['Gripstrength']\n",
    "\n",
    "t_stat, p_value = stats.ttest_ind(Fr_1, Fr_0)\n",
    "\n",
    "\n",
    "print(\"t-statistic:\", t_stat)\n",
    "print(\"p-value:\", p_value)\n",
    "\n",
    "alpha = 0.05  \n",
    "if p_value < alpha:\n",
    "    print(\"There is a significant difference in grip strength between groups.\")\n",
    "else:\n",
    "    print(\"There is no significant difference in grip strength between groups.\")"
   ]
  },
  {
   "cell_type": "code",
   "execution_count": null,
   "id": "1b6086a4",
   "metadata": {},
   "outputs": [],
   "source": []
  }
 ],
 "metadata": {
  "kernelspec": {
   "display_name": "Python 3 (ipykernel)",
   "language": "python",
   "name": "python3"
  },
  "language_info": {
   "codemirror_mode": {
    "name": "ipython",
    "version": 3
   },
   "file_extension": ".py",
   "mimetype": "text/x-python",
   "name": "python",
   "nbconvert_exporter": "python",
   "pygments_lexer": "ipython3",
   "version": "3.9.16"
  }
 },
 "nbformat": 4,
 "nbformat_minor": 5
}
