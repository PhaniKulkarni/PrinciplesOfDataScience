{
 "cells": [
  {
   "cell_type": "code",
   "execution_count": 11,
   "id": "e4b45917",
   "metadata": {},
   "outputs": [
    {
     "name": "stdout",
     "output_type": "stream",
     "text": [
      "t-statistic: 1.7920318220177764\n",
      "p-value: 0.11089488733773724\n",
      "There is no significant difference in grip strength between groups.\n"
     ]
    }
   ],
   "source": [
    "import pandas as pd\n",
    "import scipy.stats as stats\n",
    "\n",
    "enc_data = pd.read_csv(\"C:\\\\Users\\\\kulka\\\\Documents\\\\PDS\\\\Frailty Project\\\\Raw_data\\\\encoded_data.csv\")\n",
    "\n",
    "\n",
    "Fr_1 = enc_data[enc_data['Frailty'] == 1]['Weight']\n",
    "Fr_0 = enc_data[enc_data['Frailty'] == 0]['Weight']\n",
    "\n",
    "t_stat, p_value = stats.ttest_ind(Fr_1, Fr_0)\n",
    "\n",
    "\n",
    "print(\"t-statistic:\", t_stat)\n",
    "print(\"p-value:\", p_value)\n",
    "\n",
    "alpha = 0.05  \n",
    "if p_value < alpha:\n",
    "    print(\"There is a significant difference in grip strength between groups.\")\n",
    "else:\n",
    "    print(\"There is no significant difference in grip strength between groups.\")\n"
   ]
  },
  {
   "cell_type": "code",
   "execution_count": null,
   "id": "1b6086a4",
   "metadata": {},
   "outputs": [],
   "source": []
  }
 ],
 "metadata": {
  "kernelspec": {
   "display_name": "Python 3 (ipykernel)",
   "language": "python",
   "name": "python3"
  },
  "language_info": {
   "codemirror_mode": {
    "name": "ipython",
    "version": 3
   },
   "file_extension": ".py",
   "mimetype": "text/x-python",
   "name": "python",
   "nbconvert_exporter": "python",
   "pygments_lexer": "ipython3",
   "version": "3.9.16"
  }
 },
 "nbformat": 4,
 "nbformat_minor": 5
}
